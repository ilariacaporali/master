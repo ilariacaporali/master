{
  "nbformat": 4,
  "nbformat_minor": 0,
  "metadata": {
    "colab": {
      "provenance": [],
      "authorship_tag": "ABX9TyPQdYNEktztAcjxwfE4KtIg",
      "include_colab_link": true
    },
    "kernelspec": {
      "name": "python3",
      "display_name": "Python 3"
    },
    "language_info": {
      "name": "python"
    }
  },
  "cells": [
    {
      "cell_type": "markdown",
      "metadata": {
        "id": "view-in-github",
        "colab_type": "text"
      },
      "source": [
        "<a href=\"https://colab.research.google.com/github/ilariacaporali/master/blob/main/hw2_dice.ipynb\" target=\"_parent\"><img src=\"https://colab.research.google.com/assets/colab-badge.svg\" alt=\"Open In Colab\"/></a>"
      ]
    },
    {
      "cell_type": "markdown",
      "source": [
        "###Question 1\n",
        "Two ordinary dice with faces labelled 1, … , 6 are thrown. What is the probability distribution of the sum of the values? What is the probability distribution of the absolute difference between the values?"
      ],
      "metadata": {
        "id": "EFslWTXzvkxj"
      }
    },
    {
      "cell_type": "markdown",
      "source": [
        "\n"
      ],
      "metadata": {
        "id": "vcSbDtxAv5Vf"
      }
    },
    {
      "cell_type": "code",
      "source": [
        "import random\n",
        "import numpy as np\n",
        "import matplotlib.pyplot as plt\n",
        "import matplotlib.mlab as mlab\n",
        "from scipy.stats import norm\n",
        "\n",
        "random.seed(162738)\n",
        "\n",
        "def d_outcome():\n",
        "    d = random.randint(1,6)\n",
        "    return d\n",
        "\n",
        "#main\n",
        "\n",
        "seq=[]\n",
        "N = 2 #number of dices\n",
        "for i in range(10000):\n",
        "    d1 = d_outcome()\n",
        "    d2 = d_outcome()\n",
        "    seq.append(d1+d2)\n",
        "    \n",
        "d = np.array(seq)\n",
        "\n",
        "n, bins, patches = plt.hist(d, 11, density=True, facecolor='g', alpha=0.3)\n",
        "\n",
        "# best fit of data\n",
        "(mu, sigma) = norm.fit(d)\n",
        "\n",
        "# add a 'best fit' line\n",
        "y = norm.pdf( bins, mu, sigma)\n",
        "l = plt.plot(bins, y, 'r--', linewidth=2)\n",
        "\n",
        "plt.show()"
      ],
      "metadata": {
        "colab": {
          "base_uri": "https://localhost:8080/",
          "height": 265
        },
        "id": "qMCQ6abvwWW1",
        "outputId": "3149fcaa-997b-49cc-b88b-33d27d494296"
      },
      "execution_count": 7,
      "outputs": [
        {
          "output_type": "display_data",
          "data": {
            "text/plain": [
              "<Figure size 432x288 with 1 Axes>"
            ],
            "image/png": "[encoded data removed]"
          },
          "metadata": {
            "needs_background": "light"
          }
        }
      ]
    },
    {
      "cell_type": "code",
      "source": [
        "#ricontrollare il programma perché non mi torna con i dati\n",
        "import random\n",
        "import numpy as np\n",
        "import matplotlib.pyplot as plt\n",
        "import matplotlib.mlab as mlab\n",
        "from scipy.stats import norm\n",
        "\n",
        "random.seed(162738)\n",
        "\n",
        "def d_outcome():\n",
        "    d = random.randint(1,6)\n",
        "    return d\n",
        "\n",
        "#main\n",
        "\n",
        "seq=[]\n",
        "N = 2 #number of dices\n",
        "for i in range(10000):\n",
        "    d1 = d_outcome()\n",
        "    d2 = d_outcome()\n",
        "    seq.append(np.absolute(d1-d2))\n",
        "    \n",
        "d = np.array(seq)\n",
        "\n",
        "plt.hist(d, 6, density=True, facecolor='g', alpha=0.3)\n",
        "\n",
        "plt.show()"
      ],
      "metadata": {
        "colab": {
          "base_uri": "https://localhost:8080/",
          "height": 265
        },
        "id": "6esBI5P_xuAi",
        "outputId": "1be345f4-e93b-424a-f63f-d7487ddfbba4"
      },
      "execution_count": 13,
      "outputs": [
        {
          "output_type": "display_data",
          "data": {
            "text/plain": [
              "<Figure size 432x288 with 1 Axes>"
            ],
            "image/png": "[encoded data removed]"
          },
          "metadata": {
            "needs_background": "light"
          }
        }
      ]
    },
    {
      "cell_type": "code",
      "execution_count": 17,
      "metadata": {
        "colab": {
          "base_uri": "https://localhost:8080/",
          "height": 265
        },
        "id": "472pbsLjvZNA",
        "outputId": "5a29324b-230d-43e4-d372-49f0093cd346"
      },
      "outputs": [
        {
          "output_type": "display_data",
          "data": {
            "text/plain": [
              "<Figure size 432x288 with 1 Axes>"
            ],
            "image/png": "[encoded data removed]"
          },
          "metadata": {
            "needs_background": "light"
          }
        }
      ],
      "source": [
        "import random\n",
        "import matplotlib.pyplot as plt\n",
        "import matplotlib.mlab as mlab\n",
        "from scipy.stats import norm\n",
        "\n",
        "random.seed(162738)\n",
        "\n",
        "def d_outcome():\n",
        "    d = random.randint(1,6)\n",
        "    return d\n",
        "\n",
        "#main\n",
        "\n",
        "seq=[]\n",
        "N = 100 #number of dices\n",
        "for i in range(1000):\n",
        "    #d1 = d_outcome()\n",
        "    #d2 = d_outcome()\n",
        "    #print(d1,\"  \" ,d2)\n",
        "    #d = d1+d2\n",
        "    d = 0\n",
        "    for j in range(N):\n",
        "        d_n = d_outcome()\n",
        "        d = d + d_n\n",
        "    seq.append(d)\n",
        "    #print(d)\n",
        "    \n",
        "d = np.array(seq)\n",
        "\n",
        "n, bins, patches = plt.hist(d, 600, density=True, facecolor='g', alpha=0.3)\n",
        "\n",
        "# best fit of data\n",
        "(mu, sigma) = norm.fit(d)\n",
        "\n",
        "# add a 'best fit' line\n",
        "y = norm.pdf( bins, mu, sigma)\n",
        "l = plt.plot(bins, y, 'r--', linewidth=2)\n",
        "\n",
        "plt.show()"
      ]
    }
  ]
}